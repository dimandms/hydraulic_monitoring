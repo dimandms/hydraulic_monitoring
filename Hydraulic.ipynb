{
 "cells": [
  {
   "cell_type": "code",
   "execution_count": 10,
   "metadata": {},
   "outputs": [],
   "source": [
    "from typing import Iterable, List, Dict\n",
    "import os\n",
    "import gc"
   ]
  },
  {
   "cell_type": "code",
   "execution_count": 2,
   "metadata": {},
   "outputs": [],
   "source": [
    "import pandas as pd\n",
    "import numpy as np"
   ]
  },
  {
   "cell_type": "code",
   "execution_count": 3,
   "metadata": {},
   "outputs": [],
   "source": [
    "PATH_TO_DATA = \"c:/Hydraulics/data/\"\n",
    "NUMBER_OF_PROFILES = 2205\n",
    "PROFILE_MAX_SAMPLE_RATE = 6000\n",
    "TARGET_NAMES = [\"cooler\", \"valve\", \"leakage\", \"accumulator\", \"stable\"]"
   ]
  },
  {
   "cell_type": "code",
   "execution_count": 4,
   "metadata": {},
   "outputs": [],
   "source": [
    "read_files_config = [\n",
    "    {\"name\": \"CE\", \"resample_coeff\": 100},\n",
    "    {\"name\": \"CP\", \"resample_coeff\": 100},\n",
    "    {\"name\": \"EPS1\", \"resample_coeff\": 1},\n",
    "    {\"name\": \"FS1\", \"resample_coeff\": 10},\n",
    "    {\"name\": \"FS2\", \"resample_coeff\": 10},\n",
    "    {\"name\": \"PS1\", \"resample_coeff\": 1},\n",
    "    {\"name\": \"PS2\", \"resample_coeff\": 1},\n",
    "    {\"name\": \"PS3\", \"resample_coeff\": 1},\n",
    "    {\"name\": \"PS4\", \"resample_coeff\": 1},\n",
    "    {\"name\": \"PS5\", \"resample_coeff\": 1},\n",
    "    {\"name\": \"PS6\", \"resample_coeff\": 1},\n",
    "    {\"name\": \"SE\", \"resample_coeff\": 100},\n",
    "    {\"name\": \"TS1\", \"resample_coeff\": 100},\n",
    "    {\"name\": \"TS2\", \"resample_coeff\": 100},\n",
    "    {\"name\": \"TS3\", \"resample_coeff\": 100},\n",
    "    {\"name\": \"TS4\", \"resample_coeff\": 100},\n",
    "    {\"name\": \"VS1\", \"resample_coeff\": 100},\n",
    "]"
   ]
  },
  {
   "cell_type": "code",
   "execution_count": 5,
   "metadata": {},
   "outputs": [],
   "source": [
    "def get_files(config: List[Dict]) -> Iterable[np.ndarray]:\n",
    "    for file in config:\n",
    "        data = np.genfromtxt(PATH_TO_DATA + file[\"name\"] + \".txt\", dtype=float, delimiter='\\t')\n",
    "        yield np.repeat(data, file[\"resample_coeff\"], axis=1).flatten()"
   ]
  },
  {
   "cell_type": "code",
   "execution_count": 6,
   "metadata": {},
   "outputs": [],
   "source": [
    "def load_feature_dataframe(config: List[Dict]) -> pd.DataFrame:\n",
    "    columns = [file[\"name\"] for file in config]\n",
    "    data = np.stack(get_files(config), axis=-1)\n",
    "    return pd.DataFrame(data, columns=columns)"
   ]
  },
  {
   "cell_type": "code",
   "execution_count": 7,
   "metadata": {},
   "outputs": [],
   "source": [
    "def load_targets(filename: str) -> pd.DataFrame:\n",
    "    conditions_data = np.genfromtxt(PATH_TO_DATA + filename, dtype=int, delimiter='\\t')\n",
    "    processed_conditions_data = np.repeat(conditions_data, PROFILE_MAX_SAMPLE_RATE, axis=0)\n",
    "    conditions_df = pd.DataFrame(processed_conditions_data, columns=TARGET_NAMES)\n",
    "\n",
    "    prodile_ids = np.repeat(range(1, NUMBER_OF_PROFILES+1), PROFILE_MAX_SAMPLE_RATE)\n",
    "    prodile_ids_df = pd.DataFrame(prodile_ids, columns=[\"profile_id\"])\n",
    "\n",
    "    return pd.concat([prodile_ids_df, conditions_df], axis=1, sort=False)   "
   ]
  },
  {
   "cell_type": "code",
   "execution_count": 8,
   "metadata": {},
   "outputs": [],
   "source": [
    "feature_df = load_feature_dataframe(read_files_config)\n",
    "target_df = load_targets(\"profile.txt\")\n",
    "df = pd.concat([target_df, feature_df], axis=1, sort=False)\n",
    "\n",
    "del feature_df\n",
    "del target_df\n",
    "gc.collect()"
   ]
  }
 ],
 "metadata": {
  "kernelspec": {
   "display_name": "Hydr venv",
   "language": "python",
   "name": "venv"
  },
  "language_info": {
   "codemirror_mode": {
    "name": "ipython",
    "version": 3
   },
   "file_extension": ".py",
   "mimetype": "text/x-python",
   "name": "python",
   "nbconvert_exporter": "python",
   "pygments_lexer": "ipython3",
   "version": "3.8.3-final"
  }
 },
 "nbformat": 4,
 "nbformat_minor": 4
}